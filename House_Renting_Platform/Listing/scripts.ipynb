{
 "cells": [
  {
   "cell_type": "code",
   "execution_count": 1,
   "id": "3cbcf79e",
   "metadata": {},
   "outputs": [],
   "source": [
    "from langchain_community.document_loaders import TextLoader\n",
    "from langchain_text_splitters import CharacterTextSplitter\n",
    "from langchain_google_genai import GoogleGenerativeAIEmbeddings\n",
    "from langchain_chroma import Chroma\n",
    "from dotenv import load_dotenv\n",
    "import pandas as pd\n",
    "import numpy as np"
   ]
  },
  {
   "cell_type": "code",
   "execution_count": 2,
   "id": "ec509d4d",
   "metadata": {},
   "outputs": [
    {
     "data": {
      "text/plain": [
       "True"
      ]
     },
     "execution_count": 2,
     "metadata": {},
     "output_type": "execute_result"
    }
   ],
   "source": [
    "load_dotenv()"
   ]
  },
  {
   "cell_type": "code",
   "execution_count": null,
   "id": "0361eb60",
   "metadata": {},
   "outputs": [],
   "source": []
  },
  {
   "cell_type": "code",
   "execution_count": 34,
   "id": "929623ff",
   "metadata": {},
   "outputs": [
    {
     "name": "stderr",
     "output_type": "stream",
     "text": [
      "Created a chunk of size 308, which is longer than the specified 1\n",
      "Created a chunk of size 214, which is longer than the specified 1\n",
      "Created a chunk of size 186, which is longer than the specified 1\n",
      "Created a chunk of size 150, which is longer than the specified 1\n",
      "Created a chunk of size 151, which is longer than the specified 1\n",
      "Created a chunk of size 165, which is longer than the specified 1\n",
      "Created a chunk of size 167, which is longer than the specified 1\n",
      "Created a chunk of size 149, which is longer than the specified 1\n"
     ]
    },
    {
     "data": {
      "text/plain": [
       "[Document(metadata={'source': 'available_properties.txt'}, page_content=\"(1, 'Addis Abeba', 'Addis Abeba', 'Kaliti', 'Commercial Land', 'Warehouse in sale in kality in Addis Abeba', 'Warehouse in sale in kality in Addis Abeba\\\\r\\\\ntotal warehouse = 1600sqm\\\\r\\\\nwarehouse site = 700sqm\\\\r\\\\npower,office,toilet fulfilled\\\\r\\\\nlocation:around kality on asphalt road\\\\r\\\\nprice:60m', 60000000)\"),\n",
       " Document(metadata={'source': 'available_properties.txt'}, page_content=\"(2, 'Addis Abeba', 'Addis Abeba', 'kirkos', 'Commercial Land', 'furnished 3 bedroom apartment in my  dream realstate for sale', 'fully furnished apartment in 2nd floor of the my dream realstate for sale', 19000000)\"),\n",
       " Document(metadata={'source': 'available_properties.txt'}, page_content=\"(3, 'Addis Abeba', 'Addis Abeba', 'Yeka abado', 'Apartment', 'New apartment for sale in Yeka Abado', 'fully furnished apartment in 2nd floor of the my dream realstate for sale', 9000000)\"),\n",
       " Document(metadata={'source': 'available_properties.txt'}, page_content=\"(4, 'Addis Abeba', 'Addis Abeba', 'Ayat Area', 'Villa', 'Brand new villa for sale in Ayat Zone 5', 'fully furnished villa for sale in ayat', 24000000)\"),\n",
       " Document(metadata={'source': 'available_properties.txt'}, page_content=\"(5, 'Addis Abeba', 'Addis Abeba', 'Shola', 'Villa', 'Brand new villa for sale in Shola', 'fully furnished villa for sale in Shola megenagna', 30000000)\"),\n",
       " Document(metadata={'source': 'available_properties.txt'}, page_content=\"(6, 'Addis Abeba', 'Addis Abeba', 'Ayat 49', 'Condominium', '2bdrm condo in bole ayat for sale', '2bdrm condominuim in the 4 floor for sale around ayat 49', 7000000)\"),\n",
       " Document(metadata={'source': 'available_properties.txt'}, page_content=\"(7, 'Addis Abeba', 'Addis Abeba', 'Ayat 49', 'Condominium', 'Studio condo in bole ayat for sale', 'studio condominuim in the 4 floor for sale around ayat 49', 7000000)\"),\n",
       " Document(metadata={'source': 'available_properties.txt'}, page_content=\"(8, 'Addis Abeba', 'Addis Abeba', 'Ayat 49', 'Villa', 'villa for sale in bole ayat for sale', 'luxury villa for sale in ayat area for 39m', 39000000)\"),\n",
       " Document(metadata={'source': 'available_properties.txt'}, page_content=\"(9, 'Addis Abeba', 'Addis Abeba', 'Summit 72', 'Villa', 'villa for sale in bole summit for sale', 'luxury villa for sale in summitarea for 39m', 29000000)\")]"
      ]
     },
     "execution_count": 34,
     "metadata": {},
     "output_type": "execute_result"
    }
   ],
   "source": [
    "raw_documents = TextLoader(\"available_properties.txt\",encoding=\"utf-8\").load()\n",
    "\n",
    "text_splitter = CharacterTextSplitter(chunk_size=1,chunk_overlap=0,separator='\\n')\n",
    "\n",
    "documents = text_splitter.split_documents(raw_documents)\n",
    "documents"
   ]
  },
  {
   "cell_type": "code",
   "execution_count": 35,
   "id": "baca1553",
   "metadata": {},
   "outputs": [
    {
     "data": {
      "text/plain": [
       "<langchain_chroma.vectorstores.Chroma at 0x11f378416e0>"
      ]
     },
     "execution_count": 35,
     "metadata": {},
     "output_type": "execute_result"
    }
   ],
   "source": [
    "db_properties = Chroma.from_documents(documents,embedding=GoogleGenerativeAIEmbeddings(model=\"models/embedding-001\"))\n",
    "db_properties"
   ]
  },
  {
   "cell_type": "code",
   "execution_count": 36,
   "id": "bb3719b0",
   "metadata": {},
   "outputs": [
    {
     "data": {
      "text/plain": [
       "[Document(id='e32a62f0-f222-4d8d-8838-7d7b8f559c0d', metadata={'source': 'available_properties.txt'}, page_content=\"(3, 'Addis Abeba', 'Addis Abeba', 'Yeka abado', 'Apartment', 'New apartment for sale in Yeka Abado', 'fully furnished apartment in 2nd floor of the my dream realstate for sale', 9000000)\"),\n",
       " Document(id='5c6d35fb-2254-4bd9-aacd-47a6efb68f40', metadata={'source': 'available_properties.txt'}, page_content=\"(5, 'Addis Abeba', 'Addis Abeba', 'Shola', 'Villa', 'Brand new villa for sale in Shola', 'fully furnished villa for sale in Shola megenagna', 30000000)\"),\n",
       " Document(id='f569d523-d815-49ce-967a-20e00581ba59', metadata={'source': 'available_properties.txt'}, page_content=\"(2, 'Addis Abeba', 'Addis Abeba', 'kirkos', 'Commercial Land', 'furnished 3 bedroom apartment in my  dream realstate for sale', 'fully furnished apartment in 2nd floor of the my dream realstate for sale', 19000000)\"),\n",
       " Document(id='3b202c46-2860-4560-ac12-fe244c0129c5', metadata={'source': 'available_properties.txt'}, page_content=\"(4, 'Addis Abeba', 'Addis Abeba', 'Ayat Area', 'Villa', 'Brand new villa for sale in Ayat Zone 5', 'fully furnished villa for sale in ayat', 24000000)\"),\n",
       " Document(id='94d08b92-2b63-40ec-b8f9-576ace711aaf', metadata={'source': 'available_properties.txt'}, page_content=\"(8, 'Addis Abeba', 'Addis Abeba', 'Ayat 49', 'Villa', 'villa for sale in bole ayat for sale', 'luxury villa for sale in ayat area for 39m', 39000000)\")]"
      ]
     },
     "execution_count": 36,
     "metadata": {},
     "output_type": "execute_result"
    }
   ],
   "source": [
    "query = \"yeka house luxury\"\n",
    "\n",
    "recommendations = db_properties.similarity_search(query, k=5)\n",
    "\n",
    "recommendations"
   ]
  }
 ],
 "metadata": {
  "kernelspec": {
   "display_name": "env",
   "language": "python",
   "name": "python3"
  },
  "language_info": {
   "codemirror_mode": {
    "name": "ipython",
    "version": 3
   },
   "file_extension": ".py",
   "mimetype": "text/x-python",
   "name": "python",
   "nbconvert_exporter": "python",
   "pygments_lexer": "ipython3",
   "version": "3.13.5"
  }
 },
 "nbformat": 4,
 "nbformat_minor": 5
}
