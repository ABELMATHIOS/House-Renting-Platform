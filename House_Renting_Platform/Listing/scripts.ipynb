{
 "cells": [
  {
   "cell_type": "code",
   "execution_count": 2,
   "id": "3cbcf79e",
   "metadata": {},
   "outputs": [],
   "source": [
    "from langchain_community.document_loaders import TextLoader\n",
    "from langchain_text_splitters import CharacterTextSplitter\n",
    "from langchain_google_genai import GoogleGenerativeAIEmbeddings\n",
    "from langchain_chroma import Chroma\n",
    "from dotenv import load_dotenv\n",
    "import pandas as pd\n",
    "import numpy as np"
   ]
  },
  {
   "cell_type": "code",
   "execution_count": 3,
   "id": "ec509d4d",
   "metadata": {},
   "outputs": [
    {
     "data": {
      "text/plain": [
       "True"
      ]
     },
     "execution_count": 3,
     "metadata": {},
     "output_type": "execute_result"
    }
   ],
   "source": [
    "load_dotenv()"
   ]
  },
  {
   "cell_type": "code",
   "execution_count": null,
   "id": "0361eb60",
   "metadata": {},
   "outputs": [],
   "source": []
  },
  {
   "cell_type": "code",
   "execution_count": 4,
   "id": "929623ff",
   "metadata": {},
   "outputs": [
    {
     "name": "stderr",
     "output_type": "stream",
     "text": [
      "Created a chunk of size 187, which is longer than the specified 0\n",
      "Created a chunk of size 377, which is longer than the specified 0\n",
      "Created a chunk of size 214, which is longer than the specified 0\n",
      "Created a chunk of size 194, which is longer than the specified 0\n",
      "Created a chunk of size 171, which is longer than the specified 0\n",
      "Created a chunk of size 230, which is longer than the specified 0\n",
      "Created a chunk of size 154, which is longer than the specified 0\n",
      "Created a chunk of size 287, which is longer than the specified 0\n",
      "Created a chunk of size 312, which is longer than the specified 0\n"
     ]
    }
   ],
   "source": [
    "raw_documents = TextLoader(\"available_properties.txt\",encoding=\"utf-8\").load()\n",
    "\n",
    "text_splitter = CharacterTextSplitter(chunk_size=0,chunk_overlap=0,separator=\"\\n\")\n",
    "\n",
    "documents = text_splitter.split_documents(raw_documents)"
   ]
  },
  {
   "cell_type": "code",
   "execution_count": 5,
   "id": "baca1553",
   "metadata": {},
   "outputs": [],
   "source": [
    "db_properties = Chroma.from_documents(documents,embedding=GoogleGenerativeAIEmbeddings(model=\"models/embedding-001\"))"
   ]
  },
  {
   "cell_type": "code",
   "execution_count": 7,
   "id": "bb3719b0",
   "metadata": {},
   "outputs": [
    {
     "data": {
      "text/plain": [
       "[Document(id='9234bb33-8cbe-41a2-800d-441d6cd6eb42', metadata={'source': 'available_properties.txt'}, page_content=\"(2, 'Addis Abeba', 'Addis Abeba', 'Ayat Area', 'Villa', 'Furnished 10bdrm House in Ayat compound, Yeka for sale', 'Luxury G+2 House for sale in Ayat area inside compound300 M2\\\\r\\\\nLocation:Addis Ababa\\\\r\\\\nAyat area inside compound\\\\r\\\\nArea:300M2\\\\r\\\\n2Big sallon\\\\r\\\\n10 bedroom\\\\r\\\\n9 Bathroom\\\\r\\\\nideal for residentioal\\\\r\\\\nfull furnished\\\\r\\\\nPrice : 65,000,000\\\\r\\\\nNegotiable', 65000000)\"),\n",
       " Document(id='6996fff9-6079-4c46-bae8-2e9253e7a667', metadata={'source': 'available_properties.txt'}, page_content=\"(8, 'Addis Abeba', 'Addis Abeba', 'Ayat', 'Apartment', 'Furnished 10bdrm Townhouse/Terrace in Bole Ayat for sale', 'For sale G+3 Townhouse\\\\r\\\\n250care\\\\r\\\\n10bdrm\\\\r\\\\n2 living rooms and 3 kitchens\\\\r\\\\n9 bathrooms\\\\r\\\\nG+1 service\\\\r\\\\ncan park 3 cars\\\\r\\\\nprice:65,000,000\\\\r\\\\nNegotiable', 65000000)\"),\n",
       " Document(id='ed01a770-3741-4ae8-909f-c096a6b0cb0c', metadata={'source': 'available_properties.txt'}, page_content=\"(10, 'Addis Abeba', 'Addis Abeba', 'Jemo Jigjiga sefer', 'Villa', '2bdrm Villa in Nifas Silk-Lafto for sale', 'House for sale!!\\\\r\\\\n160care\\\\r\\\\nliving room\\\\r\\\\n2bedrooms\\\\r\\\\nservice\\\\r\\\\nstore\\\\r\\\\n2bathrooms', 13000000)\"),\n",
       " Document(id='9926cb9e-71fa-463d-95b4-ad077f540608', metadata={'source': 'available_properties.txt'}, page_content=\"(7, 'Addis Abeba', 'Addis Abeba', 'Signal', 'Office', 'Urgent for Rent 150sqm Office Showroom', 'Urgent rent office 150sqm & 149sqm 120,000brr +', 120000)\"),\n",
       " Document(id='ab11cca4-55ce-46cd-b83b-38a802d139da', metadata={'source': 'available_properties.txt'}, page_content=\"(6, 'Addis Abeba', 'Addis Abeba', 'Ayat 49', 'Apartment', 'Furnished 1bdrm Condo in Ayat 49 , Bole for sale', 'For sale!!!\\\\r\\\\nAyat 49 site 1\\\\r\\\\n44care\\\\r\\\\n1 bedroom\\\\r\\\\n3rd floor\\\\r\\\\nprice:3.5m\\\\r\\\\ncommision 2% will be paid', 3400000)\")]"
      ]
     },
     "execution_count": 7,
     "metadata": {},
     "output_type": "execute_result"
    }
   ],
   "source": [
    "query = \"ayat villa luxury\"\n",
    "\n",
    "recommendations = db_properties.similarity_search(query, k=5)\n",
    "\n",
    "recommendations"
   ]
  }
 ],
 "metadata": {
  "kernelspec": {
   "display_name": "env",
   "language": "python",
   "name": "python3"
  },
  "language_info": {
   "codemirror_mode": {
    "name": "ipython",
    "version": 3
   },
   "file_extension": ".py",
   "mimetype": "text/x-python",
   "name": "python",
   "nbconvert_exporter": "python",
   "pygments_lexer": "ipython3",
   "version": "3.13.5"
  }
 },
 "nbformat": 4,
 "nbformat_minor": 5
}
